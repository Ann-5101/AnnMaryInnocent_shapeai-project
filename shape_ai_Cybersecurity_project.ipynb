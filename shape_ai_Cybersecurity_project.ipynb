{
  "nbformat": 4,
  "nbformat_minor": 0,
  "metadata": {
    "colab": {
      "name": "shape ai  Cybersecurity project.ipynb",
      "provenance": []
    },
    "kernelspec": {
      "name": "python3",
      "display_name": "Python 3"
    },
    "language_info": {
      "name": "python"
    }
  },
  "cells": [
    {
      "cell_type": "code",
      "metadata": {
        "id": "Z4SfuAHUy3zz"
      },
      "source": [
        "import requests"
      ],
      "execution_count": 1,
      "outputs": []
    },
    {
      "cell_type": "code",
      "metadata": {
        "id": "-5xo0q8smgLX"
      },
      "source": [
        "from datetime import datetime"
      ],
      "execution_count": 2,
      "outputs": []
    },
    {
      "cell_type": "code",
      "metadata": {
        "id": "lws3QKySmuki"
      },
      "source": [
        "api_key ='fc0406dffe583f7d07ef58764507e3c3'"
      ],
      "execution_count": 3,
      "outputs": []
    },
    {
      "cell_type": "code",
      "metadata": {
        "id": "B_CyPsbbm7_l",
        "colab": {
          "base_uri": "https://localhost:8080/"
        },
        "outputId": "6a4736d8-5a6c-485e-de4c-be636c767745"
      },
      "source": [
        "location = input(\"Enter the city name: \")"
      ],
      "execution_count": 4,
      "outputs": [
        {
          "output_type": "stream",
          "text": [
            "Enter the city name: mumbai\n"
          ],
          "name": "stdout"
        }
      ]
    },
    {
      "cell_type": "code",
      "metadata": {
        "id": "E5BatBQCnLtp"
      },
      "source": [
        "complete_api_link = \"https://api.openweathermap.org/data/2.5/weather?q=\"+location+\"&appid=\"+api_key"
      ],
      "execution_count": 5,
      "outputs": []
    },
    {
      "cell_type": "code",
      "metadata": {
        "id": "gS2dQaoAnyVq"
      },
      "source": [
        "api_link = requests.get(complete_api_link)"
      ],
      "execution_count": 6,
      "outputs": []
    },
    {
      "cell_type": "code",
      "metadata": {
        "id": "Z58-7_odn-I0"
      },
      "source": [
        "api_data = api_link.json()"
      ],
      "execution_count": 7,
      "outputs": []
    },
    {
      "cell_type": "code",
      "metadata": {
        "id": "nMRxqo1DoFay"
      },
      "source": [
        "temp_city = ((api_data['main']['temp'])-273.15)"
      ],
      "execution_count": 8,
      "outputs": []
    },
    {
      "cell_type": "code",
      "metadata": {
        "id": "ltp5igzoosU9"
      },
      "source": [
        "weather_desc =api_data['weather'][0]['description']"
      ],
      "execution_count": 9,
      "outputs": []
    },
    {
      "cell_type": "code",
      "metadata": {
        "id": "oPotCmwao45t"
      },
      "source": [
        "hmdt = api_data['main']['humidity']"
      ],
      "execution_count": 10,
      "outputs": []
    },
    {
      "cell_type": "code",
      "metadata": {
        "id": "dZEmk5LbpFBV"
      },
      "source": [
        "wind_spd = api_data['wind']['speed']"
      ],
      "execution_count": 11,
      "outputs": []
    },
    {
      "cell_type": "code",
      "metadata": {
        "id": "BB_D8nG5pcTY"
      },
      "source": [
        "date_time = datetime.now().strftime(\"%d %b %Y | %I:%M:%S %p\")"
      ],
      "execution_count": 12,
      "outputs": []
    },
    {
      "cell_type": "code",
      "metadata": {
        "id": "4ML1bZ2dJXzM"
      },
      "source": [
        "sourceFile = open('weather.txt', 'w')\n",
        "print ('-------------------------------------------------------------',file = sourceFile)\n",
        "print ('Weather Status for - {}  || {}'.format(location.upper(), date_time),file = sourceFile)\n",
        "print ('-------------------------------------------------------------', file = sourceFile)\n",
        "print ('Current temperature is: {:.2f} deg C'.format(temp_city), file = sourceFile)\n",
        "print ('Current weather desc  :',weather_desc, file = sourceFile)\n",
        "print ('Current Humidity      :',hmdt, '%', file = sourceFile)\n",
        "print ('Current wind speed    :',wind_spd ,'kmph', file = sourceFile)"
      ],
      "execution_count": 17,
      "outputs": []
    }
  ]
}